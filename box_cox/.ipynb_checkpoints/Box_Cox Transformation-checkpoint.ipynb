{
 "cells": [
  {
   "cell_type": "markdown",
   "id": "591c87e0-9126-4b0c-860c-c902d11d5c61",
   "metadata": {},
   "source": [
    "# Box_Cox Transformation"
   ]
  },
  {
   "cell_type": "markdown",
   "id": "44e3ef7b-0e3e-4a31-bed8-4a2fb924988f",
   "metadata": {},
   "source": [
    "The Box-Cox transformation is a family of power transformations that is used to stabilize variance and make data more closely approximate a normal distribution. The transformation is defined as:\n",
    "\n",
    "$$if (\\lambda\\neq 0): \\quad (\\lambda) = \\frac{x^\\lambda - 1}{\\lambda}$$\n",
    "$$if (\\lambda = 0): \\quad y(\\lambda) = \\ln(x)$$\n",
    "\n",
    "Where:\n",
    "$x$ is the input data.\n",
    "$\\lambda$ (lambda) is the transformation parameter.\n",
    "\n",
    "Purpose and Applications\n",
    "\n",
    "Variance Stabilization: Box-Cox helps in making the variance of the data more consistent across different levels of the independent variable.\n",
    "Normalization: It can transform skewed data into a more normal distribution, which is often a requirement for many statistical models.\n",
    "Improving Model Performance: In regression models, applying the Box-Cox transformation can often improve model performance by making the relationship between the variables more linear and stabilizing variance.\n",
    "The optimal value of ($\\lambda$) can be estimated by maximum likelihood estimation, and typically, a range of values is tested to find the best fit for the given dataset. When ($\\lambda$ = 0), the transformation reduces to a logarithmic transformation, which is useful for handling exponential growth or data with high positive skew."
   ]
  },
  {
   "cell_type": "code",
   "execution_count": null,
   "id": "ce16fb8e-3a32-4f80-ae18-e4effe813b21",
   "metadata": {},
   "outputs": [],
   "source": []
  }
 ],
 "metadata": {
  "kernelspec": {
   "display_name": "Python 3 (ipykernel)",
   "language": "python",
   "name": "python3"
  },
  "language_info": {
   "codemirror_mode": {
    "name": "ipython",
    "version": 3
   },
   "file_extension": ".py",
   "mimetype": "text/x-python",
   "name": "python",
   "nbconvert_exporter": "python",
   "pygments_lexer": "ipython3",
   "version": "3.11.8"
  }
 },
 "nbformat": 4,
 "nbformat_minor": 5
}
